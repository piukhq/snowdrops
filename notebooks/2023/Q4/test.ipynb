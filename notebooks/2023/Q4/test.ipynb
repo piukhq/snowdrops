{
 "cells": [
  {
   "cell_type": "code",
   "execution_count": 1,
   "metadata": {},
   "outputs": [],
   "source": [
    "import pandas as pd\n",
    "import numpy as np\n",
    "from env import conn\n",
    "import matplotlib as plt\n",
    "%matplotlib inline\n",
    "cs = conn.cursor()"
   ]
  },
  {
   "cell_type": "code",
   "execution_count": 2,
   "metadata": {},
   "outputs": [],
   "source": [
    "cs = conn.cursor()"
   ]
  },
  {
   "cell_type": "code",
   "execution_count": 3,
   "metadata": {},
   "outputs": [
    {
     "data": {
      "text/plain": [
       "<snowflake.connector.cursor.SnowflakeCursor at 0x145c9c7d0>"
      ]
     },
     "execution_count": 3,
     "metadata": {},
     "output_type": "execute_result"
    }
   ],
   "source": [
    "cs.execute(\"SELECT * FROM PROD.BINK.FACT_USER\")"
   ]
  },
  {
   "cell_type": "code",
   "execution_count": 4,
   "metadata": {},
   "outputs": [],
   "source": [
    "query_result = cs.fetchall()"
   ]
  },
  {
   "cell_type": "code",
   "execution_count": 5,
   "metadata": {},
   "outputs": [],
   "source": [
    "column_names = [col[0] for col in cs.description]"
   ]
  },
  {
   "cell_type": "code",
   "execution_count": 6,
   "metadata": {},
   "outputs": [
    {
     "data": {
      "text/plain": [
       "True"
      ]
     },
     "execution_count": 6,
     "metadata": {},
     "output_type": "execute_result"
    }
   ],
   "source": [
    "cs.close()"
   ]
  },
  {
   "cell_type": "code",
   "execution_count": 7,
   "metadata": {},
   "outputs": [],
   "source": [
    "df = pd.DataFrame(query_result, columns=column_names)"
   ]
  },
  {
   "cell_type": "code",
   "execution_count": 8,
   "metadata": {},
   "outputs": [
    {
     "data": {
      "text/html": [
       "<div>\n",
       "<style scoped>\n",
       "    .dataframe tbody tr th:only-of-type {\n",
       "        vertical-align: middle;\n",
       "    }\n",
       "\n",
       "    .dataframe tbody tr th {\n",
       "        vertical-align: top;\n",
       "    }\n",
       "\n",
       "    .dataframe thead th {\n",
       "        text-align: right;\n",
       "    }\n",
       "</style>\n",
       "<table border=\"1\" class=\"dataframe\">\n",
       "  <thead>\n",
       "    <tr style=\"text-align: right;\">\n",
       "      <th></th>\n",
       "      <th>EVENT_ID</th>\n",
       "      <th>EVENT_DATE_TIME</th>\n",
       "      <th>USER_ID</th>\n",
       "      <th>EVENT_TYPE</th>\n",
       "      <th>IS_MOST_RECENT</th>\n",
       "      <th>ORIGIN</th>\n",
       "      <th>CHANNEL</th>\n",
       "      <th>BRAND</th>\n",
       "      <th>INSERTED_DATE_TIME</th>\n",
       "      <th>UPDATED_DATE_TIME</th>\n",
       "    </tr>\n",
       "  </thead>\n",
       "  <tbody>\n",
       "    <tr>\n",
       "      <th>0</th>\n",
       "      <td>15399805</td>\n",
       "      <td>2023-11-23 09:37:54.217304</td>\n",
       "      <td>2027565</td>\n",
       "      <td>CREATED</td>\n",
       "      <td>None</td>\n",
       "      <td>channel</td>\n",
       "      <td>LLOYDS</td>\n",
       "      <td>LLOYDS</td>\n",
       "      <td>2023-11-23 12:14:27.107</td>\n",
       "      <td>2023-11-23 12:14:27.107</td>\n",
       "    </tr>\n",
       "    <tr>\n",
       "      <th>1</th>\n",
       "      <td>15400417</td>\n",
       "      <td>2023-11-23 09:53:12.386484</td>\n",
       "      <td>2027598</td>\n",
       "      <td>CREATED</td>\n",
       "      <td>None</td>\n",
       "      <td>channel</td>\n",
       "      <td>LLOYDS</td>\n",
       "      <td>LLOYDS</td>\n",
       "      <td>2023-11-23 12:14:27.107</td>\n",
       "      <td>2023-11-23 12:14:27.107</td>\n",
       "    </tr>\n",
       "    <tr>\n",
       "      <th>2</th>\n",
       "      <td>15398955</td>\n",
       "      <td>2023-11-23 09:15:35.815558</td>\n",
       "      <td>2027511</td>\n",
       "      <td>CREATED</td>\n",
       "      <td>None</td>\n",
       "      <td>channel</td>\n",
       "      <td>LLOYDS</td>\n",
       "      <td>HALIFAX</td>\n",
       "      <td>2023-11-23 12:14:27.107</td>\n",
       "      <td>2023-11-23 12:14:27.107</td>\n",
       "    </tr>\n",
       "    <tr>\n",
       "      <th>3</th>\n",
       "      <td>15394366</td>\n",
       "      <td>2023-11-23 06:44:11.788590</td>\n",
       "      <td>2027261</td>\n",
       "      <td>CREATED</td>\n",
       "      <td>None</td>\n",
       "      <td>channel</td>\n",
       "      <td>LLOYDS</td>\n",
       "      <td>HALIFAX</td>\n",
       "      <td>2023-11-23 12:14:27.107</td>\n",
       "      <td>2023-11-23 12:14:27.107</td>\n",
       "    </tr>\n",
       "    <tr>\n",
       "      <th>4</th>\n",
       "      <td>15401307</td>\n",
       "      <td>2023-11-23 10:05:58.037933</td>\n",
       "      <td>2027620</td>\n",
       "      <td>CREATED</td>\n",
       "      <td>None</td>\n",
       "      <td>channel</td>\n",
       "      <td>LLOYDS</td>\n",
       "      <td>LLOYDS</td>\n",
       "      <td>2023-11-23 12:14:27.107</td>\n",
       "      <td>2023-11-23 12:14:27.107</td>\n",
       "    </tr>\n",
       "  </tbody>\n",
       "</table>\n",
       "</div>"
      ],
      "text/plain": [
       "   EVENT_ID            EVENT_DATE_TIME  USER_ID EVENT_TYPE IS_MOST_RECENT  \\\n",
       "0  15399805 2023-11-23 09:37:54.217304  2027565    CREATED           None   \n",
       "1  15400417 2023-11-23 09:53:12.386484  2027598    CREATED           None   \n",
       "2  15398955 2023-11-23 09:15:35.815558  2027511    CREATED           None   \n",
       "3  15394366 2023-11-23 06:44:11.788590  2027261    CREATED           None   \n",
       "4  15401307 2023-11-23 10:05:58.037933  2027620    CREATED           None   \n",
       "\n",
       "    ORIGIN CHANNEL    BRAND      INSERTED_DATE_TIME       UPDATED_DATE_TIME  \n",
       "0  channel  LLOYDS   LLOYDS 2023-11-23 12:14:27.107 2023-11-23 12:14:27.107  \n",
       "1  channel  LLOYDS   LLOYDS 2023-11-23 12:14:27.107 2023-11-23 12:14:27.107  \n",
       "2  channel  LLOYDS  HALIFAX 2023-11-23 12:14:27.107 2023-11-23 12:14:27.107  \n",
       "3  channel  LLOYDS  HALIFAX 2023-11-23 12:14:27.107 2023-11-23 12:14:27.107  \n",
       "4  channel  LLOYDS   LLOYDS 2023-11-23 12:14:27.107 2023-11-23 12:14:27.107  "
      ]
     },
     "execution_count": 8,
     "metadata": {},
     "output_type": "execute_result"
    }
   ],
   "source": [
    "df.head()"
   ]
  },
  {
   "cell_type": "code",
   "execution_count": 9,
   "metadata": {},
   "outputs": [
    {
     "data": {
      "text/html": [
       "<div>\n",
       "<style scoped>\n",
       "    .dataframe tbody tr th:only-of-type {\n",
       "        vertical-align: middle;\n",
       "    }\n",
       "\n",
       "    .dataframe tbody tr th {\n",
       "        vertical-align: top;\n",
       "    }\n",
       "\n",
       "    .dataframe thead th {\n",
       "        text-align: right;\n",
       "    }\n",
       "</style>\n",
       "<table border=\"1\" class=\"dataframe\">\n",
       "  <thead>\n",
       "    <tr style=\"text-align: right;\">\n",
       "      <th></th>\n",
       "      <th>EVENT_ID</th>\n",
       "      <th>EVENT_DATE_TIME</th>\n",
       "      <th>INSERTED_DATE_TIME</th>\n",
       "      <th>UPDATED_DATE_TIME</th>\n",
       "    </tr>\n",
       "  </thead>\n",
       "  <tbody>\n",
       "    <tr>\n",
       "      <th>count</th>\n",
       "      <td>1.497419e+06</td>\n",
       "      <td>1497419</td>\n",
       "      <td>1497419</td>\n",
       "      <td>1497419</td>\n",
       "    </tr>\n",
       "    <tr>\n",
       "      <th>mean</th>\n",
       "      <td>6.890355e+06</td>\n",
       "      <td>2023-05-02 05:56:32.608262144</td>\n",
       "      <td>2023-11-20 15:05:02.910039296</td>\n",
       "      <td>2023-11-20 15:05:06.636240896</td>\n",
       "    </tr>\n",
       "    <tr>\n",
       "      <th>min</th>\n",
       "      <td>2.000000e+00</td>\n",
       "      <td>2022-04-30 21:09:22.592968</td>\n",
       "      <td>2023-11-20 14:49:41.640000</td>\n",
       "      <td>2023-11-20 14:49:41.640000</td>\n",
       "    </tr>\n",
       "    <tr>\n",
       "      <th>25%</th>\n",
       "      <td>2.863632e+06</td>\n",
       "      <td>2023-03-02 10:55:44.294396928</td>\n",
       "      <td>2023-11-20 14:49:41.640000</td>\n",
       "      <td>2023-11-20 14:49:41.640000</td>\n",
       "    </tr>\n",
       "    <tr>\n",
       "      <th>50%</th>\n",
       "      <td>6.728612e+06</td>\n",
       "      <td>2023-05-21 10:26:27.178364928</td>\n",
       "      <td>2023-11-20 14:49:41.640000</td>\n",
       "      <td>2023-11-20 14:49:41.640000</td>\n",
       "    </tr>\n",
       "    <tr>\n",
       "      <th>75%</th>\n",
       "      <td>1.079456e+07</td>\n",
       "      <td>2023-08-17 12:44:34.322729984</td>\n",
       "      <td>2023-11-20 14:49:41.640000</td>\n",
       "      <td>2023-11-20 14:49:41.640000</td>\n",
       "    </tr>\n",
       "    <tr>\n",
       "      <th>max</th>\n",
       "      <td>1.542200e+07</td>\n",
       "      <td>2023-11-23 11:59:45.168715</td>\n",
       "      <td>2023-11-23 12:14:27.107000</td>\n",
       "      <td>2023-11-23 12:14:27.107000</td>\n",
       "    </tr>\n",
       "    <tr>\n",
       "      <th>std</th>\n",
       "      <td>4.460030e+06</td>\n",
       "      <td>NaN</td>\n",
       "      <td>NaN</td>\n",
       "      <td>NaN</td>\n",
       "    </tr>\n",
       "  </tbody>\n",
       "</table>\n",
       "</div>"
      ],
      "text/plain": [
       "           EVENT_ID                EVENT_DATE_TIME  \\\n",
       "count  1.497419e+06                        1497419   \n",
       "mean   6.890355e+06  2023-05-02 05:56:32.608262144   \n",
       "min    2.000000e+00     2022-04-30 21:09:22.592968   \n",
       "25%    2.863632e+06  2023-03-02 10:55:44.294396928   \n",
       "50%    6.728612e+06  2023-05-21 10:26:27.178364928   \n",
       "75%    1.079456e+07  2023-08-17 12:44:34.322729984   \n",
       "max    1.542200e+07     2023-11-23 11:59:45.168715   \n",
       "std    4.460030e+06                            NaN   \n",
       "\n",
       "                  INSERTED_DATE_TIME              UPDATED_DATE_TIME  \n",
       "count                        1497419                        1497419  \n",
       "mean   2023-11-20 15:05:02.910039296  2023-11-20 15:05:06.636240896  \n",
       "min       2023-11-20 14:49:41.640000     2023-11-20 14:49:41.640000  \n",
       "25%       2023-11-20 14:49:41.640000     2023-11-20 14:49:41.640000  \n",
       "50%       2023-11-20 14:49:41.640000     2023-11-20 14:49:41.640000  \n",
       "75%       2023-11-20 14:49:41.640000     2023-11-20 14:49:41.640000  \n",
       "max       2023-11-23 12:14:27.107000     2023-11-23 12:14:27.107000  \n",
       "std                              NaN                            NaN  "
      ]
     },
     "execution_count": 9,
     "metadata": {},
     "output_type": "execute_result"
    }
   ],
   "source": [
    "df.describe()"
   ]
  },
  {
   "cell_type": "code",
   "execution_count": null,
   "metadata": {},
   "outputs": [],
   "source": []
  }
 ],
 "metadata": {
  "kernelspec": {
   "display_name": "venv",
   "language": "python",
   "name": "python3"
  },
  "language_info": {
   "codemirror_mode": {
    "name": "ipython",
    "version": 3
   },
   "file_extension": ".py",
   "mimetype": "text/x-python",
   "name": "python",
   "nbconvert_exporter": "python",
   "pygments_lexer": "ipython3",
   "version": "3.11.4"
  }
 },
 "nbformat": 4,
 "nbformat_minor": 2
}
