{
 "cells": [
  {
   "cell_type": "markdown",
   "metadata": {},
   "source": [
    "# DWH ACCURACY"
   ]
  },
  {
   "cell_type": "code",
   "execution_count": null,
   "metadata": {},
   "outputs": [],
   "source": [
    "import pandas as pd\n",
    "import psycopg2 as pg\n",
    "from sqlalchemy import create_engine\n",
    "from sqlalchemy.exc import SQLAlchemyError\n",
    "from datetime import datetime, timedelta\n",
    "import sys\n",
    "sys.path.append('../../')\n",
    "from env import pg_conn, conn"
   ]
  },
  {
   "cell_type": "markdown",
   "metadata": {},
   "source": [
    "PG and SNOWFAKE QUERY FUCNTIONS"
   ]
  },
  {
   "cell_type": "code",
   "execution_count": null,
   "metadata": {},
   "outputs": [],
   "source": [
    "def pg_query(database, query):\n",
    "    engine = create_engine(pg_conn+str(database))\n",
    "    conn = engine.connect()\n",
    "    transaction = conn.begin()\n",
    "    try:\n",
    "        # perform some database operations here\n",
    "        df = pd.read_sql(query, conn)\n",
    "        transaction.commit()\n",
    "        with pd.option_context('display.max_rows', None, 'display.max_columns', None):  # more options can be specified also    \n",
    "            print(df)\n",
    "        return df\n",
    "    except SQLAlchemyError as e:\n",
    "        transaction.rollback()\n",
    "        print(f\"Error occurred: {e}\")\n",
    "    finally:\n",
    "        conn.close()\n",
    "\n",
    "def snow_query(query):\n",
    "    try:\n",
    "        cur = conn.cursor()\n",
    "        cur.execute(query)\n",
    "\n",
    "        df = pd.DataFrame(cur.fetchall(), columns=[col[0] for col in cur.description])\n",
    "        return df\n",
    "    finally:\n",
    "        cur.close()"
   ]
  },
  {
   "cell_type": "markdown",
   "metadata": {},
   "source": [
    "### FACT LC SUCCESS EVENTS COMPARED TO UBIQUITY SCHEME ACCOUNT ENTRY"
   ]
  },
  {
   "cell_type": "code",
   "execution_count": null,
   "metadata": {},
   "outputs": [],
   "source": [
    "ubiquity_query = \"\"\"select distinct scheme_account_id, user_id from ubiquity_schemeaccountentry where link_status = 1\"\"\"\n",
    "ubiquity_table = pg_query('hermes', ubiquity_query)"
   ]
  },
  {
   "cell_type": "code",
   "execution_count": null,
   "metadata": {},
   "outputs": [],
   "source": [
    "fact_lc_query = \"\"\"with lc as (select * from PROD.BINK_SECURE.FACT_LOYALTY_CARD)\n",
    "\n",
    "select distinct loyalty_card_id, user_id from lc where is_most_recent = TRUE and event_Type = 'SUCCESS';\"\"\"\n",
    "fact_lc = snow_query(fact_lc_query)\n",
    "fact_lc.head()"
   ]
  },
  {
   "cell_type": "code",
   "execution_count": null,
   "metadata": {},
   "outputs": [],
   "source": [
    "fact_lc['unique_key'] = fact_lc['LOYALTY_CARD_ID'].astype(str) + fact_lc['USER_ID'].astype(str)\n",
    "ubiquity_table['unique_key'] = ubiquity_table['scheme_account_id'].astype(str) + ubiquity_table['user_id'].astype(str)\n",
    "\n",
    "matched1 = fact_lc[fact_lc['unique_key'].isin(ubiquity_table['unique_key'])]\n",
    "result1 = 1 - (len(fact_lc) - len(matched1))/len(fact_lc)\n",
    "print(result1)\n",
    "\n",
    "matched2 = ubiquity_table[ubiquity_table['unique_key'].isin(fact_lc['unique_key'])]\n",
    "result2 = 1 - (len(ubiquity_table) - len(matched2))/len(ubiquity_table)\n",
    "print(result2)\n",
    "\n",
    "print(f\"Average match rate for fact_lc to ubiquity_schemeaccountentry is {(result1 + result2)/2}\")\n"
   ]
  },
  {
   "cell_type": "code",
   "execution_count": null,
   "metadata": {},
   "outputs": [],
   "source": [
    "\n",
    "#DELETE as this is for another task\n",
    "ubiquity_query = \"\"\"select distinct card_number\n",
    "    from ubiquity_schemeaccountentry\n",
    "    left join scheme_schemeaccount on scheme_schemeaccount.id = ubiquity_schemeaccountentry.scheme_account_id\n",
    "    left join scheme_scheme on scheme_scheme.id = scheme_schemeaccount.scheme_id\n",
    "    where scheme_scheme.company = 'The Works' and link_status = 1;\n",
    "    \"\"\"\n",
    "ubiquity_table = pg_query('hermes', ubiquity_query)"
   ]
  },
  {
   "cell_type": "code",
   "execution_count": null,
   "metadata": {},
   "outputs": [],
   "source": [
    "ubiquity_table.to_csv('The_Works_SAIDS_20230326.csv', index=False)"
   ]
  },
  {
   "cell_type": "code",
   "execution_count": null,
   "metadata": {},
   "outputs": [],
   "source": [
    "ubiquity_query = \"\"\"select count(distinct payment_card_account_id)\n",
    "    from ubiquity_paymentcardschemeentry where active_link = True;\n",
    "    \"\"\"\n",
    "ubiquity_table = pg_query('hermes', ubiquity_query)"
   ]
  },
  {
   "cell_type": "code",
   "execution_count": null,
   "metadata": {},
   "outputs": [],
   "source": [
    "ubiquity_table = pg_query('hermes', \"SELECT * FROM pg_catalog.pg_tables;\")\n"
   ]
  },
  {
   "cell_type": "code",
   "execution_count": null,
   "metadata": {},
   "outputs": [],
   "source": []
  }
 ],
 "metadata": {
  "kernelspec": {
   "display_name": "venv",
   "language": "python",
   "name": "python3"
  },
  "language_info": {
   "codemirror_mode": {
    "name": "ipython",
    "version": 3
   },
   "file_extension": ".py",
   "mimetype": "text/x-python",
   "name": "python",
   "nbconvert_exporter": "python",
   "pygments_lexer": "ipython3",
   "version": "3.10.10"
  }
 },
 "nbformat": 4,
 "nbformat_minor": 2
}
