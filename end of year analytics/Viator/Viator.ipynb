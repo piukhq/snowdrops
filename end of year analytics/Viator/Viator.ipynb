{
 "cells": [
  {
   "cell_type": "markdown",
   "metadata": {},
   "source": [
    "# Viator End of Year Analytics"
   ]
  },
  {
   "cell_type": "code",
   "execution_count": null,
   "metadata": {},
   "outputs": [],
   "source": [
    "import sys\n",
    "sys.path.append('../../')\n",
    "from env import conn"
   ]
  },
  {
   "cell_type": "code",
   "execution_count": null,
   "metadata": {},
   "outputs": [],
   "source": [
    "import pandas as pd\n",
    "import numpy as np\n",
    "from env import conn\n",
    "import matplotlib as plt\n",
    "import seaborn as sns\n",
    "%matplotlib inline\n",
    "cs = conn.cursor()"
   ]
  },
  {
   "cell_type": "code",
   "execution_count": null,
   "metadata": {},
   "outputs": [],
   "source": [
    "def return_df(query):\n",
    "    cs = conn.cursor()\n",
    "    query = query\n",
    "    result = cs.execute(query)\n",
    "    df = result.fetch_pandas_all()\n",
    "    cs.close()\n",
    "    return df"
   ]
  },
  {
   "cell_type": "code",
   "execution_count": null,
   "metadata": {},
   "outputs": [],
   "source": [
    "lc_daily_metrics = return_df(\n",
    "    \"\"\"select * from METRICS.LOYALTY_CARDS.LC__LINKS_JOINS__DAILY_RETAILER\n",
    "        where loyalty_plan_company = 'Viator'\n",
    "        order by date;    \n",
    "    \"\"\"\n",
    "        )\n",
    "\n",
    "txn_daily_metrics = return_df(\n",
    "    \"\"\"select * from METRICS.TRANSACTIONS.TRANS__TRANS__DAILY_RETAILER\n",
    "        where loyalty_plan_company = 'Viator'\n",
    "         order by date;    \n",
    "    \"\"\"\n",
    "        )\n",
    "\n",
    "user_level_txns = return_df(\n",
    "    \"\"\"select * from PROD.BINK_SECURE.FACT_TRANSACTION\n",
    "        where loyalty_plan_company = 'Viator'\n",
    "         order by event_date_time;    \n",
    "    \"\"\"\n",
    "        )"
   ]
  }
 ],
 "metadata": {
  "language_info": {
   "name": "python"
  }
 },
 "nbformat": 4,
 "nbformat_minor": 2
}
