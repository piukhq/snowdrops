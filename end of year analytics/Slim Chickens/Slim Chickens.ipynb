{
 "cells": [
  {
   "cell_type": "markdown",
   "metadata": {},
   "source": [
    "# Slim Chickens End of Year Analytics"
   ]
  },
  {
   "cell_type": "code",
   "execution_count": 6,
   "metadata": {},
   "outputs": [],
   "source": [
    "import sys\n",
    "sys.path.append('../../')\n",
    "from env import conn"
   ]
  },
  {
   "cell_type": "code",
   "execution_count": 7,
   "metadata": {},
   "outputs": [],
   "source": [
    "import pandas as pd\n",
    "import numpy as np\n",
    "import matplotlib as plt\n",
    "import seaborn as sns\n",
    "%matplotlib inline\n",
    "cs = conn.cursor()"
   ]
  },
  {
   "cell_type": "code",
   "execution_count": null,
   "metadata": {},
   "outputs": [],
   "source": [
    "def return_df(query):\n",
    "    cs = conn.cursor()\n",
    "    query = query\n",
    "    result = cs.execute(query)\n",
    "    df = result.fetch_pandas_all()\n",
    "    cs.close()\n",
    "    return df"
   ]
  },
  {
   "cell_type": "code",
   "execution_count": null,
   "metadata": {},
   "outputs": [],
   "source": [
    "lc_daily_metrics = return_df(\n",
    "    \"\"\"select * from METRICS.LOYALTY_CARDS.LC__LINKS_JOINS__DAILY_RETAILER\n",
    "        where loyalty_plan_company = 'Slim Chickens'\n",
    "        order by date;    \n",
    "    \"\"\"\n",
    "        )\n",
    "\n",
    "txn_daily_metrics = return_df(\n",
    "    \"\"\"select * from METRICS.TRANSACTIONS.TRANS__TRANS__DAILY_RETAILER\n",
    "        where loyalty_plan_company = 'Slim Chickens'\n",
    "         order by date;    \n",
    "    \"\"\"\n",
    "        )\n",
    "\n",
    "user_level_txns = return_df(\n",
    "    \"\"\"select * from PROD.BINK_SECURE.FACT_TRANSACTION\n",
    "        where loyalty_plan_company = 'Slim Chickens'\n",
    "         order by event_date_time;    \n",
    "    \"\"\"\n",
    "        )"
   ]
  }
 ],
 "metadata": {
  "kernelspec": {
   "display_name": "venv",
   "language": "python",
   "name": "python3"
  },
  "language_info": {
   "codemirror_mode": {
    "name": "ipython",
    "version": 3
   },
   "file_extension": ".py",
   "mimetype": "text/x-python",
   "name": "python",
   "nbconvert_exporter": "python",
   "pygments_lexer": "ipython3",
   "version": "3.11.4"
  }
 },
 "nbformat": 4,
 "nbformat_minor": 2
}
